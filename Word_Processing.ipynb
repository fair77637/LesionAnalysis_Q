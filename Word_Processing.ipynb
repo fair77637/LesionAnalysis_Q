{
 "cells": [
  {
   "cell_type": "code",
   "execution_count": 20,
   "metadata": {
    "collapsed": false
   },
   "outputs": [],
   "source": [
    "import pandas as pd\n",
    "import numpy as np\n",
    "from unidecode import unidecode\n",
    "from nltk import word_tokenize\n",
    "\n",
    "def conditional_unicode(X):\n",
    "    try:\n",
    "        w = unidecode(X)\n",
    "    except: \n",
    "        w = X\n",
    "    return w\n",
    "\n",
    "def pre_process(X):\n",
    "    try:\n",
    "        w = word_tokenize(X)\n",
    "        if len(w)>1:\n",
    "            k = w[-1].lower()\n",
    "        else:__\n",
    "            k = w[0].lower()\n",
    "    except:\n",
    "        k = X\n",
    "    return k\n",
    "\n",
    "from nltk.corpus import stopwords\n",
    "import nltk\n",
    "import string\n",
    "# nltk.download('stopwords')\n",
    "\n",
    "# In case stopwords and punctuation is required to be removed\n",
    "stop = stopwords.words('english') + list(string.punctuation)\n",
    "punct = list(string.punctuation)"
   ]
  },
  {
   "cell_type": "code",
   "execution_count": 24,
   "metadata": {
    "collapsed": false
   },
   "outputs": [],
   "source": [
    "Scores = pd.read_csv('/Users/fair00542/Desktop/Outcomes/C.csv')\n",
    "Scores = Scores.dropna(axis=0)"
   ]
  },
  {
   "cell_type": "code",
   "execution_count": 26,
   "metadata": {
    "collapsed": false
   },
   "outputs": [],
   "source": [
    "Scores['Tokens1'] = Scores.Tokens.apply(conditional_unicode)"
   ]
  },
  {
   "cell_type": "code",
   "execution_count": 27,
   "metadata": {
    "collapsed": false
   },
   "outputs": [],
   "source": [
    "Scores['preprocessed_Tokens'] = Scores.Tokens1.apply(pre_process)"
   ]
  },
  {
   "cell_type": "code",
   "execution_count": 29,
   "metadata": {
    "collapsed": false
   },
   "outputs": [],
   "source": [
    "# Scores['preprocessed_Tokens']"
   ]
  },
  {
   "cell_type": "code",
   "execution_count": 31,
   "metadata": {
    "collapsed": false
   },
   "outputs": [],
   "source": [
    "Final = Scores.groupby(by='preprocessed_Tokens')['Scores'].sum()"
   ]
  },
  {
   "cell_type": "code",
   "execution_count": 35,
   "metadata": {
    "collapsed": true
   },
   "outputs": [],
   "source": [
    "Final.to_csv('aggregated_scores.csv')"
   ]
  },
  {
   "cell_type": "code",
   "execution_count": 37,
   "metadata": {
    "collapsed": false
   },
   "outputs": [
    {
     "data": {
      "text/plain": [
       "preprocessed_Tokens\n",
       "\u0002policing           -220\n",
       "\u0002space-weather      -220\n",
       "\u0003antenna            -220\n",
       "\u0003kt                 -220\n",
       "\u0003so                 -220\n",
       "\u0003space              -220\n",
       "!                   -934\n",
       "%                 -19931\n",
       "&                 -29228\n",
       "+                  -3200\n",
       "-                   -291\n",
       "-1                 -2178\n",
       "-2                  1425\n",
       "-2006                -44\n",
       "-2008                140\n",
       "-2009              -1060\n",
       "-2010              -2928\n",
       "-2012               -263\n",
       "-2013               -420\n",
       "-2015               -420\n",
       "-3                  1425\n",
       "-4                 -1956\n",
       "-5                  -244\n",
       "-roadmap           -1712\n",
       "-tial               -500\n",
       "/                  18227\n",
       "//bitly/17kbtst     -244\n",
       "//bitly/18krtjg     -244\n",
       "//bitly/hcovsp      -244\n",
       "//bitly/ho0wcc      -244\n",
       "                   ...  \n",
       "zalinge            -3132\n",
       "zeeko                 60\n",
       "zelfolu             -300\n",
       "zepler              -460\n",
       "zero               -3266\n",
       "zerohertz           -220\n",
       "zetica             -6264\n",
       "zhang               -420\n",
       "zhejiang           -2068\n",
       "zheludev            -460\n",
       "zhou               -3132\n",
       "zhu                  -80\n",
       "zhua                 140\n",
       "zi                 -1380\n",
       "zigbee              -220\n",
       "zinwave            -5796\n",
       "zones                -80\n",
       "zoo                 -220\n",
       "zoodigitalcom       -220\n",
       "zrhuo               -500\n",
       "zytek                -60\n",
       "~                  -1600\n",
       "~100                1809\n",
       "~150                1669\n",
       "~20                 -460\n",
       "~250                -460\n",
       "~300                -460\n",
       "~40                  -60\n",
       "~50                 1809\n",
       "~60                 -460\n",
       "Name: Scores, Length: 8244, dtype: int64"
      ]
     },
     "execution_count": 37,
     "metadata": {},
     "output_type": "execute_result"
    }
   ],
   "source": [
    "Final"
   ]
  },
  {
   "cell_type": "code",
   "execution_count": null,
   "metadata": {
    "collapsed": true
   },
   "outputs": [],
   "source": []
  }
 ],
 "metadata": {
  "kernelspec": {
   "display_name": "Python 2",
   "language": "python",
   "name": "python2"
  },
  "language_info": {
   "codemirror_mode": {
    "name": "ipython",
    "version": 2
   },
   "file_extension": ".py",
   "mimetype": "text/x-python",
   "name": "python",
   "nbconvert_exporter": "python",
   "pygments_lexer": "ipython2",
   "version": "2.7.13"
  }
 },
 "nbformat": 4,
 "nbformat_minor": 2
}
