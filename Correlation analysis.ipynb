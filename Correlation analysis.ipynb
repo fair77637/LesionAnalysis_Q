{
 "cells": [
  {
   "cell_type": "code",
   "execution_count": 54,
   "metadata": {
    "collapsed": true
   },
   "outputs": [],
   "source": [
    "import pandas as pd\n",
    "import numpy as np\n",
    "import matplotlib.pyplot as plt\n",
    "\n",
    "# df = pd.read_csv('/Volumes/FAIR/DC-Image-Analysis/DC-project-master/cleancode/NewMidplane/summary/SDH.csv',index_col=0)\n",
    "# df = pd.read_csv('/Volumes/FAIR/DC-Image-Analysis/DC-project-master/cleancode/NewMidplane/summary/EDH1_9summary.csv',index_col=0)\n",
    "# df = pd.read_csv('/Volumes/FAIR/DC-Image-Analysis/DC-project-master/cleancode/NewMidplane/summary/CONT1_7summary.csv',index_col=0)\n",
    "\n",
    "# df = pd.read_csv('/Volumes/FAIR/DC-Image-Analysis/DC-project-master/cleancode/NewMidplane/summary/CONT.csv',index_col=0)\n",
    "df = pd.read_csv('/Volumes/FAIR/DC-Image-Analysis/DC-project-master/cleancode/NewMidplane/summary/summary.csv',index_col=0)\n",
    "\n",
    "\n"
   ]
  },
  {
   "cell_type": "code",
   "execution_count": 55,
   "metadata": {
    "collapsed": false
   },
   "outputs": [],
   "source": [
    "df = df.drop(['Alarm_index','Extra_Notes','prime_lesion_label','A_adjusted1','A_adjusted2','tanh'],1)"
   ]
  },
  {
   "cell_type": "code",
   "execution_count": 56,
   "metadata": {
    "collapsed": false
   },
   "outputs": [
    {
     "data": {
      "text/html": [
       "<div>\n",
       "<style scoped>\n",
       "    .dataframe tbody tr th:only-of-type {\n",
       "        vertical-align: middle;\n",
       "    }\n",
       "\n",
       "    .dataframe tbody tr th {\n",
       "        vertical-align: top;\n",
       "    }\n",
       "\n",
       "    .dataframe thead th {\n",
       "        text-align: right;\n",
       "    }\n",
       "</style>\n",
       "<table border=\"1\" class=\"dataframe\">\n",
       "  <thead>\n",
       "    <tr style=\"text-align: right;\">\n",
       "      <th></th>\n",
       "      <th>SignedCriticalVolume</th>\n",
       "      <th>UnsignedCriticalVolume</th>\n",
       "      <th>TotalVolume</th>\n",
       "      <th>MLS</th>\n",
       "    </tr>\n",
       "    <tr>\n",
       "      <th>caseID</th>\n",
       "      <th></th>\n",
       "      <th></th>\n",
       "      <th></th>\n",
       "      <th></th>\n",
       "    </tr>\n",
       "  </thead>\n",
       "  <tbody>\n",
       "    <tr>\n",
       "      <th>SDH1</th>\n",
       "      <td>0.000000</td>\n",
       "      <td>0.000000</td>\n",
       "      <td>40.273849</td>\n",
       "      <td>0.00</td>\n",
       "    </tr>\n",
       "    <tr>\n",
       "      <th>SDH2</th>\n",
       "      <td>9.193607</td>\n",
       "      <td>9.193607</td>\n",
       "      <td>69.958994</td>\n",
       "      <td>6.25</td>\n",
       "    </tr>\n",
       "    <tr>\n",
       "      <th>SDH3</th>\n",
       "      <td>17.638487</td>\n",
       "      <td>17.638487</td>\n",
       "      <td>17.723908</td>\n",
       "      <td>3.00</td>\n",
       "    </tr>\n",
       "  </tbody>\n",
       "</table>\n",
       "</div>"
      ],
      "text/plain": [
       "        SignedCriticalVolume  UnsignedCriticalVolume  TotalVolume   MLS\n",
       "caseID                                                                 \n",
       "SDH1                0.000000                0.000000    40.273849  0.00\n",
       "SDH2                9.193607                9.193607    69.958994  6.25\n",
       "SDH3               17.638487               17.638487    17.723908  3.00"
      ]
     },
     "execution_count": 56,
     "metadata": {},
     "output_type": "execute_result"
    }
   ],
   "source": [
    "df.head(3)"
   ]
  },
  {
   "cell_type": "code",
   "execution_count": 89,
   "metadata": {
    "collapsed": true
   },
   "outputs": [],
   "source": [
    "bilateral_cases = ['CONT3','CONT4','CONT11','CONT15','CONT16','CONT19','CONT2',\n",
    "                  'EDH5','EDH2']"
   ]
  },
  {
   "cell_type": "code",
   "execution_count": 92,
   "metadata": {
    "collapsed": false
   },
   "outputs": [
    {
     "data": {
      "text/html": [
       "<div>\n",
       "<style scoped>\n",
       "    .dataframe tbody tr th:only-of-type {\n",
       "        vertical-align: middle;\n",
       "    }\n",
       "\n",
       "    .dataframe tbody tr th {\n",
       "        vertical-align: top;\n",
       "    }\n",
       "\n",
       "    .dataframe thead th {\n",
       "        text-align: right;\n",
       "    }\n",
       "</style>\n",
       "<table border=\"1\" class=\"dataframe\">\n",
       "  <thead>\n",
       "    <tr style=\"text-align: right;\">\n",
       "      <th></th>\n",
       "      <th>SignedCriticalVolume</th>\n",
       "      <th>UnsignedCriticalVolume</th>\n",
       "      <th>TotalVolume</th>\n",
       "      <th>MLS</th>\n",
       "    </tr>\n",
       "    <tr>\n",
       "      <th>caseID</th>\n",
       "      <th></th>\n",
       "      <th></th>\n",
       "      <th></th>\n",
       "      <th></th>\n",
       "    </tr>\n",
       "  </thead>\n",
       "  <tbody>\n",
       "    <tr>\n",
       "      <th>CONT3</th>\n",
       "      <td>8.982290</td>\n",
       "      <td>62.594501</td>\n",
       "      <td>71.290406</td>\n",
       "      <td>2.415</td>\n",
       "    </tr>\n",
       "    <tr>\n",
       "      <th>CONT4</th>\n",
       "      <td>14.074992</td>\n",
       "      <td>14.560546</td>\n",
       "      <td>186.423542</td>\n",
       "      <td>1.763</td>\n",
       "    </tr>\n",
       "    <tr>\n",
       "      <th>CONT11</th>\n",
       "      <td>0.000000</td>\n",
       "      <td>0.000000</td>\n",
       "      <td>8.594959</td>\n",
       "      <td>0.000</td>\n",
       "    </tr>\n",
       "    <tr>\n",
       "      <th>CONT15</th>\n",
       "      <td>24.355272</td>\n",
       "      <td>28.778787</td>\n",
       "      <td>57.127277</td>\n",
       "      <td>1.833</td>\n",
       "    </tr>\n",
       "    <tr>\n",
       "      <th>CONT16</th>\n",
       "      <td>14.328275</td>\n",
       "      <td>65.170798</td>\n",
       "      <td>68.463594</td>\n",
       "      <td>1.400</td>\n",
       "    </tr>\n",
       "    <tr>\n",
       "      <th>CONT19</th>\n",
       "      <td>15.641571</td>\n",
       "      <td>29.215454</td>\n",
       "      <td>33.459034</td>\n",
       "      <td>1.740</td>\n",
       "    </tr>\n",
       "    <tr>\n",
       "      <th>CONT2</th>\n",
       "      <td>1.480865</td>\n",
       "      <td>1.480865</td>\n",
       "      <td>1.905823</td>\n",
       "      <td>0.900</td>\n",
       "    </tr>\n",
       "    <tr>\n",
       "      <th>EDH5</th>\n",
       "      <td>0.208252</td>\n",
       "      <td>43.519672</td>\n",
       "      <td>44.026936</td>\n",
       "      <td>0.000</td>\n",
       "    </tr>\n",
       "    <tr>\n",
       "      <th>EDH2</th>\n",
       "      <td>21.401910</td>\n",
       "      <td>23.302872</td>\n",
       "      <td>60.840682</td>\n",
       "      <td>0.940</td>\n",
       "    </tr>\n",
       "  </tbody>\n",
       "</table>\n",
       "</div>"
      ],
      "text/plain": [
       "        SignedCriticalVolume  UnsignedCriticalVolume  TotalVolume    MLS\n",
       "caseID                                                                  \n",
       "CONT3               8.982290               62.594501    71.290406  2.415\n",
       "CONT4              14.074992               14.560546   186.423542  1.763\n",
       "CONT11              0.000000                0.000000     8.594959  0.000\n",
       "CONT15             24.355272               28.778787    57.127277  1.833\n",
       "CONT16             14.328275               65.170798    68.463594  1.400\n",
       "CONT19             15.641571               29.215454    33.459034  1.740\n",
       "CONT2               1.480865                1.480865     1.905823  0.900\n",
       "EDH5                0.208252               43.519672    44.026936  0.000\n",
       "EDH2               21.401910               23.302872    60.840682  0.940"
      ]
     },
     "execution_count": 92,
     "metadata": {},
     "output_type": "execute_result"
    }
   ],
   "source": [
    "bilat = df.loc[bilateral_cases]\n",
    "bilat"
   ]
  },
  {
   "cell_type": "code",
   "execution_count": 91,
   "metadata": {
    "collapsed": false
   },
   "outputs": [
    {
     "data": {
      "text/html": [
       "<div>\n",
       "<style scoped>\n",
       "    .dataframe tbody tr th:only-of-type {\n",
       "        vertical-align: middle;\n",
       "    }\n",
       "\n",
       "    .dataframe tbody tr th {\n",
       "        vertical-align: top;\n",
       "    }\n",
       "\n",
       "    .dataframe thead th {\n",
       "        text-align: right;\n",
       "    }\n",
       "</style>\n",
       "<table border=\"1\" class=\"dataframe\">\n",
       "  <thead>\n",
       "    <tr style=\"text-align: right;\">\n",
       "      <th></th>\n",
       "      <th>SignedCriticalVolume</th>\n",
       "      <th>UnsignedCriticalVolume</th>\n",
       "      <th>TotalVolume</th>\n",
       "      <th>MLS</th>\n",
       "    </tr>\n",
       "    <tr>\n",
       "      <th>caseID</th>\n",
       "      <th></th>\n",
       "      <th></th>\n",
       "      <th></th>\n",
       "      <th></th>\n",
       "    </tr>\n",
       "  </thead>\n",
       "  <tbody>\n",
       "    <tr>\n",
       "      <th>SDH1</th>\n",
       "      <td>0.000000</td>\n",
       "      <td>0.000000</td>\n",
       "      <td>40.273849</td>\n",
       "      <td>0.0000</td>\n",
       "    </tr>\n",
       "    <tr>\n",
       "      <th>SDH2</th>\n",
       "      <td>9.193607</td>\n",
       "      <td>9.193607</td>\n",
       "      <td>69.958994</td>\n",
       "      <td>6.2500</td>\n",
       "    </tr>\n",
       "    <tr>\n",
       "      <th>SDH3</th>\n",
       "      <td>17.638487</td>\n",
       "      <td>17.638487</td>\n",
       "      <td>17.723908</td>\n",
       "      <td>3.0000</td>\n",
       "    </tr>\n",
       "    <tr>\n",
       "      <th>SDH4</th>\n",
       "      <td>40.832258</td>\n",
       "      <td>40.832258</td>\n",
       "      <td>40.856447</td>\n",
       "      <td>13.6719</td>\n",
       "    </tr>\n",
       "    <tr>\n",
       "      <th>SDH5</th>\n",
       "      <td>1.755015</td>\n",
       "      <td>1.755015</td>\n",
       "      <td>1.782015</td>\n",
       "      <td>0.8000</td>\n",
       "    </tr>\n",
       "    <tr>\n",
       "      <th>SDH6</th>\n",
       "      <td>71.976250</td>\n",
       "      <td>71.976250</td>\n",
       "      <td>75.493750</td>\n",
       "      <td>3.0000</td>\n",
       "    </tr>\n",
       "    <tr>\n",
       "      <th>SDH7</th>\n",
       "      <td>180.195636</td>\n",
       "      <td>180.195636</td>\n",
       "      <td>196.010535</td>\n",
       "      <td>23.0000</td>\n",
       "    </tr>\n",
       "    <tr>\n",
       "      <th>SDH8</th>\n",
       "      <td>9.815366</td>\n",
       "      <td>10.264338</td>\n",
       "      <td>16.950544</td>\n",
       "      <td>7.5720</td>\n",
       "    </tr>\n",
       "    <tr>\n",
       "      <th>SDH9</th>\n",
       "      <td>22.249364</td>\n",
       "      <td>23.875849</td>\n",
       "      <td>24.197853</td>\n",
       "      <td>7.3500</td>\n",
       "    </tr>\n",
       "    <tr>\n",
       "      <th>SDH10</th>\n",
       "      <td>3.537639</td>\n",
       "      <td>3.537639</td>\n",
       "      <td>68.968955</td>\n",
       "      <td>4.7900</td>\n",
       "    </tr>\n",
       "    <tr>\n",
       "      <th>SDH11</th>\n",
       "      <td>29.978501</td>\n",
       "      <td>32.969859</td>\n",
       "      <td>54.306381</td>\n",
       "      <td>5.0000</td>\n",
       "    </tr>\n",
       "    <tr>\n",
       "      <th>SDH12</th>\n",
       "      <td>74.223690</td>\n",
       "      <td>74.223690</td>\n",
       "      <td>74.223690</td>\n",
       "      <td>18.7200</td>\n",
       "    </tr>\n",
       "    <tr>\n",
       "      <th>SDH14</th>\n",
       "      <td>240.242583</td>\n",
       "      <td>240.242583</td>\n",
       "      <td>243.498807</td>\n",
       "      <td>31.0000</td>\n",
       "    </tr>\n",
       "    <tr>\n",
       "      <th>SDH16-1</th>\n",
       "      <td>47.505201</td>\n",
       "      <td>47.505201</td>\n",
       "      <td>50.297664</td>\n",
       "      <td>4.1160</td>\n",
       "    </tr>\n",
       "    <tr>\n",
       "      <th>SDH16-2</th>\n",
       "      <td>195.241725</td>\n",
       "      <td>195.241725</td>\n",
       "      <td>204.956736</td>\n",
       "      <td>16.9400</td>\n",
       "    </tr>\n",
       "    <tr>\n",
       "      <th>SDH17</th>\n",
       "      <td>20.152293</td>\n",
       "      <td>20.904183</td>\n",
       "      <td>40.558485</td>\n",
       "      <td>3.2900</td>\n",
       "    </tr>\n",
       "    <tr>\n",
       "      <th>SDH18</th>\n",
       "      <td>7.264810</td>\n",
       "      <td>7.264810</td>\n",
       "      <td>23.778192</td>\n",
       "      <td>2.3000</td>\n",
       "    </tr>\n",
       "    <tr>\n",
       "      <th>SDH19</th>\n",
       "      <td>15.016937</td>\n",
       "      <td>15.016937</td>\n",
       "      <td>71.356964</td>\n",
       "      <td>4.7500</td>\n",
       "    </tr>\n",
       "    <tr>\n",
       "      <th>SDH20</th>\n",
       "      <td>3.855103</td>\n",
       "      <td>3.855103</td>\n",
       "      <td>12.349622</td>\n",
       "      <td>0.0000</td>\n",
       "    </tr>\n",
       "    <tr>\n",
       "      <th>SDH21</th>\n",
       "      <td>13.983154</td>\n",
       "      <td>13.983154</td>\n",
       "      <td>37.577820</td>\n",
       "      <td>2.0900</td>\n",
       "    </tr>\n",
       "    <tr>\n",
       "      <th>SDH22</th>\n",
       "      <td>33.091412</td>\n",
       "      <td>42.407762</td>\n",
       "      <td>45.802237</td>\n",
       "      <td>2.0000</td>\n",
       "    </tr>\n",
       "    <tr>\n",
       "      <th>SDH23</th>\n",
       "      <td>0.726508</td>\n",
       "      <td>0.726508</td>\n",
       "      <td>1.358676</td>\n",
       "      <td>0.0000</td>\n",
       "    </tr>\n",
       "    <tr>\n",
       "      <th>SDH24</th>\n",
       "      <td>96.481754</td>\n",
       "      <td>96.481754</td>\n",
       "      <td>97.948977</td>\n",
       "      <td>15.2900</td>\n",
       "    </tr>\n",
       "    <tr>\n",
       "      <th>SDH25</th>\n",
       "      <td>2.186182</td>\n",
       "      <td>2.186182</td>\n",
       "      <td>2.461121</td>\n",
       "      <td>4.0000</td>\n",
       "    </tr>\n",
       "    <tr>\n",
       "      <th>SDH26</th>\n",
       "      <td>44.988607</td>\n",
       "      <td>50.645276</td>\n",
       "      <td>56.248560</td>\n",
       "      <td>3.4360</td>\n",
       "    </tr>\n",
       "    <tr>\n",
       "      <th>SDH27</th>\n",
       "      <td>10.443477</td>\n",
       "      <td>12.480035</td>\n",
       "      <td>22.309118</td>\n",
       "      <td>3.9590</td>\n",
       "    </tr>\n",
       "    <tr>\n",
       "      <th>SDH28</th>\n",
       "      <td>0.008427</td>\n",
       "      <td>0.008427</td>\n",
       "      <td>0.041080</td>\n",
       "      <td>0.0000</td>\n",
       "    </tr>\n",
       "    <tr>\n",
       "      <th>EDH1</th>\n",
       "      <td>99.456252</td>\n",
       "      <td>99.456252</td>\n",
       "      <td>99.456252</td>\n",
       "      <td>13.8400</td>\n",
       "    </tr>\n",
       "    <tr>\n",
       "      <th>EDH3</th>\n",
       "      <td>0.831552</td>\n",
       "      <td>0.831552</td>\n",
       "      <td>15.865068</td>\n",
       "      <td>1.5000</td>\n",
       "    </tr>\n",
       "    <tr>\n",
       "      <th>EDH4</th>\n",
       "      <td>2.887732</td>\n",
       "      <td>2.887732</td>\n",
       "      <td>25.580191</td>\n",
       "      <td>1.6740</td>\n",
       "    </tr>\n",
       "    <tr>\n",
       "      <th>EDH6</th>\n",
       "      <td>0.350613</td>\n",
       "      <td>0.350613</td>\n",
       "      <td>16.009694</td>\n",
       "      <td>2.0000</td>\n",
       "    </tr>\n",
       "    <tr>\n",
       "      <th>EDH7</th>\n",
       "      <td>75.036272</td>\n",
       "      <td>75.036272</td>\n",
       "      <td>75.082848</td>\n",
       "      <td>12.0400</td>\n",
       "    </tr>\n",
       "    <tr>\n",
       "      <th>EDH8</th>\n",
       "      <td>60.876708</td>\n",
       "      <td>60.876708</td>\n",
       "      <td>60.876708</td>\n",
       "      <td>4.6000</td>\n",
       "    </tr>\n",
       "    <tr>\n",
       "      <th>EDH9</th>\n",
       "      <td>193.708946</td>\n",
       "      <td>214.012652</td>\n",
       "      <td>224.747438</td>\n",
       "      <td>21.6600</td>\n",
       "    </tr>\n",
       "    <tr>\n",
       "      <th>CONT1</th>\n",
       "      <td>2.677342</td>\n",
       "      <td>2.677342</td>\n",
       "      <td>2.816241</td>\n",
       "      <td>0.0000</td>\n",
       "    </tr>\n",
       "    <tr>\n",
       "      <th>CONT5</th>\n",
       "      <td>126.380912</td>\n",
       "      <td>137.604778</td>\n",
       "      <td>148.115513</td>\n",
       "      <td>12.5600</td>\n",
       "    </tr>\n",
       "    <tr>\n",
       "      <th>CONT6</th>\n",
       "      <td>56.710052</td>\n",
       "      <td>56.710052</td>\n",
       "      <td>64.220428</td>\n",
       "      <td>0.0000</td>\n",
       "    </tr>\n",
       "    <tr>\n",
       "      <th>CONT7</th>\n",
       "      <td>49.881399</td>\n",
       "      <td>49.881399</td>\n",
       "      <td>49.881399</td>\n",
       "      <td>5.6980</td>\n",
       "    </tr>\n",
       "    <tr>\n",
       "      <th>tutorial3</th>\n",
       "      <td>71.284000</td>\n",
       "      <td>71.284000</td>\n",
       "      <td>71.284000</td>\n",
       "      <td>11.3300</td>\n",
       "    </tr>\n",
       "    <tr>\n",
       "      <th>CONT10</th>\n",
       "      <td>2.067679</td>\n",
       "      <td>2.067679</td>\n",
       "      <td>122.569441</td>\n",
       "      <td>2.5030</td>\n",
       "    </tr>\n",
       "    <tr>\n",
       "      <th>Cont12</th>\n",
       "      <td>0.000000</td>\n",
       "      <td>0.000000</td>\n",
       "      <td>2.272550</td>\n",
       "      <td>0.0000</td>\n",
       "    </tr>\n",
       "    <tr>\n",
       "      <th>CONT13</th>\n",
       "      <td>0.204625</td>\n",
       "      <td>0.204625</td>\n",
       "      <td>9.168792</td>\n",
       "      <td>0.0000</td>\n",
       "    </tr>\n",
       "    <tr>\n",
       "      <th>CONT14</th>\n",
       "      <td>1.079226</td>\n",
       "      <td>1.079226</td>\n",
       "      <td>1.452049</td>\n",
       "      <td>0.0000</td>\n",
       "    </tr>\n",
       "    <tr>\n",
       "      <th>CONT17</th>\n",
       "      <td>0.000000</td>\n",
       "      <td>0.000000</td>\n",
       "      <td>2.936619</td>\n",
       "      <td>0.0000</td>\n",
       "    </tr>\n",
       "    <tr>\n",
       "      <th>CONT18</th>\n",
       "      <td>8.675397</td>\n",
       "      <td>8.675397</td>\n",
       "      <td>11.349504</td>\n",
       "      <td>0.0000</td>\n",
       "    </tr>\n",
       "  </tbody>\n",
       "</table>\n",
       "</div>"
      ],
      "text/plain": [
       "           SignedCriticalVolume  UnsignedCriticalVolume  TotalVolume      MLS\n",
       "caseID                                                                       \n",
       "SDH1                   0.000000                0.000000    40.273849   0.0000\n",
       "SDH2                   9.193607                9.193607    69.958994   6.2500\n",
       "SDH3                  17.638487               17.638487    17.723908   3.0000\n",
       "SDH4                  40.832258               40.832258    40.856447  13.6719\n",
       "SDH5                   1.755015                1.755015     1.782015   0.8000\n",
       "SDH6                  71.976250               71.976250    75.493750   3.0000\n",
       "SDH7                 180.195636              180.195636   196.010535  23.0000\n",
       "SDH8                   9.815366               10.264338    16.950544   7.5720\n",
       "SDH9                  22.249364               23.875849    24.197853   7.3500\n",
       "SDH10                  3.537639                3.537639    68.968955   4.7900\n",
       "SDH11                 29.978501               32.969859    54.306381   5.0000\n",
       "SDH12                 74.223690               74.223690    74.223690  18.7200\n",
       "SDH14                240.242583              240.242583   243.498807  31.0000\n",
       "SDH16-1               47.505201               47.505201    50.297664   4.1160\n",
       "SDH16-2              195.241725              195.241725   204.956736  16.9400\n",
       "SDH17                 20.152293               20.904183    40.558485   3.2900\n",
       "SDH18                  7.264810                7.264810    23.778192   2.3000\n",
       "SDH19                 15.016937               15.016937    71.356964   4.7500\n",
       "SDH20                  3.855103                3.855103    12.349622   0.0000\n",
       "SDH21                 13.983154               13.983154    37.577820   2.0900\n",
       "SDH22                 33.091412               42.407762    45.802237   2.0000\n",
       "SDH23                  0.726508                0.726508     1.358676   0.0000\n",
       "SDH24                 96.481754               96.481754    97.948977  15.2900\n",
       "SDH25                  2.186182                2.186182     2.461121   4.0000\n",
       "SDH26                 44.988607               50.645276    56.248560   3.4360\n",
       "SDH27                 10.443477               12.480035    22.309118   3.9590\n",
       "SDH28                  0.008427                0.008427     0.041080   0.0000\n",
       "EDH1                  99.456252               99.456252    99.456252  13.8400\n",
       "EDH3                   0.831552                0.831552    15.865068   1.5000\n",
       "EDH4                   2.887732                2.887732    25.580191   1.6740\n",
       "EDH6                   0.350613                0.350613    16.009694   2.0000\n",
       "EDH7                  75.036272               75.036272    75.082848  12.0400\n",
       "EDH8                  60.876708               60.876708    60.876708   4.6000\n",
       "EDH9                 193.708946              214.012652   224.747438  21.6600\n",
       "CONT1                  2.677342                2.677342     2.816241   0.0000\n",
       "CONT5                126.380912              137.604778   148.115513  12.5600\n",
       "CONT6                 56.710052               56.710052    64.220428   0.0000\n",
       "CONT7                 49.881399               49.881399    49.881399   5.6980\n",
       "tutorial3             71.284000               71.284000    71.284000  11.3300\n",
       "CONT10                 2.067679                2.067679   122.569441   2.5030\n",
       "Cont12                 0.000000                0.000000     2.272550   0.0000\n",
       "CONT13                 0.204625                0.204625     9.168792   0.0000\n",
       "CONT14                 1.079226                1.079226     1.452049   0.0000\n",
       "CONT17                 0.000000                0.000000     2.936619   0.0000\n",
       "CONT18                 8.675397                8.675397    11.349504   0.0000"
      ]
     },
     "execution_count": 91,
     "metadata": {},
     "output_type": "execute_result"
    }
   ],
   "source": [
    "unilat = df.drop(bilateral_cases)\n",
    "unilat"
   ]
  },
  {
   "cell_type": "code",
   "execution_count": 86,
   "metadata": {
    "collapsed": false
   },
   "outputs": [
    {
     "data": {
      "image/png": "[encoded data removed]",
      "text/plain": [
       "<matplotlib.figure.Figure at 0x109bb08d0>"
      ]
     },
     "metadata": {},
     "output_type": "display_data"
    }
   ],
   "source": [
    "plt.scatter(bilat['TotalVolume'], bilat['MLS'], color='yellowgreen', marker='.',\n",
    "            label='bilateral')\n",
    "plt.scatter(unilat['TotalVolume'], unilat['MLS'], color='gold', marker='.',\n",
    "            label='unilateral')\n",
    "# plt.plot(line_X, line_y, color='navy', linewidth=lw, label='Linear regressor')\n",
    "# plt.plot(line_X, line_y_ransac, color='cornflowerblue', linewidth=lw,\n",
    "#          label='RANSAC regressor')\n",
    "plt.legend(loc='lower right')\n",
    "plt.xlabel(\"Input\")\n",
    "plt.ylabel(\"Response\")\n",
    "plt.show()"
   ]
  },
  {
   "cell_type": "markdown",
   "metadata": {},
   "source": [
    "## Correlation matrix, with correlation values between 1 and -1, 1 indicating postively correlated, -1 indicating negatively correlated."
   ]
  },
  {
   "cell_type": "code",
   "execution_count": 57,
   "metadata": {
    "collapsed": false
   },
   "outputs": [
    {
     "data": {
      "text/html": [
       "<div>\n",
       "<style scoped>\n",
       "    .dataframe tbody tr th:only-of-type {\n",
       "        vertical-align: middle;\n",
       "    }\n",
       "\n",
       "    .dataframe tbody tr th {\n",
       "        vertical-align: top;\n",
       "    }\n",
       "\n",
       "    .dataframe thead th {\n",
       "        text-align: right;\n",
       "    }\n",
       "</style>\n",
       "<table border=\"1\" class=\"dataframe\">\n",
       "  <thead>\n",
       "    <tr style=\"text-align: right;\">\n",
       "      <th></th>\n",
       "      <th>SignedCriticalVolume</th>\n",
       "      <th>UnsignedCriticalVolume</th>\n",
       "      <th>TotalVolume</th>\n",
       "      <th>MLS</th>\n",
       "    </tr>\n",
       "  </thead>\n",
       "  <tbody>\n",
       "    <tr>\n",
       "      <th>SignedCriticalVolume</th>\n",
       "      <td>1.000000</td>\n",
       "      <td>0.978557</td>\n",
       "      <td>0.853671</td>\n",
       "      <td>0.899908</td>\n",
       "    </tr>\n",
       "    <tr>\n",
       "      <th>UnsignedCriticalVolume</th>\n",
       "      <td>0.978557</td>\n",
       "      <td>1.000000</td>\n",
       "      <td>0.864185</td>\n",
       "      <td>0.870907</td>\n",
       "    </tr>\n",
       "    <tr>\n",
       "      <th>TotalVolume</th>\n",
       "      <td>0.853671</td>\n",
       "      <td>0.864185</td>\n",
       "      <td>1.000000</td>\n",
       "      <td>0.769999</td>\n",
       "    </tr>\n",
       "    <tr>\n",
       "      <th>MLS</th>\n",
       "      <td>0.899908</td>\n",
       "      <td>0.870907</td>\n",
       "      <td>0.769999</td>\n",
       "      <td>1.000000</td>\n",
       "    </tr>\n",
       "  </tbody>\n",
       "</table>\n",
       "</div>"
      ],
      "text/plain": [
       "                        SignedCriticalVolume  UnsignedCriticalVolume  \\\n",
       "SignedCriticalVolume                1.000000                0.978557   \n",
       "UnsignedCriticalVolume              0.978557                1.000000   \n",
       "TotalVolume                         0.853671                0.864185   \n",
       "MLS                                 0.899908                0.870907   \n",
       "\n",
       "                        TotalVolume       MLS  \n",
       "SignedCriticalVolume       0.853671  0.899908  \n",
       "UnsignedCriticalVolume     0.864185  0.870907  \n",
       "TotalVolume                1.000000  0.769999  \n",
       "MLS                        0.769999  1.000000  "
      ]
     },
     "execution_count": 57,
     "metadata": {},
     "output_type": "execute_result"
    }
   ],
   "source": [
    "df.corr()\n",
    "# MLS is most correlated positively with Signed critical lesion volume"
   ]
  },
  {
   "cell_type": "code",
   "execution_count": 59,
   "metadata": {
    "collapsed": false
   },
   "outputs": [
    {
     "data": {
      "image/png": "[encoded data removed]",
      "text/plain": [
       "<matplotlib.figure.Figure at 0x1068fbe10>"
      ]
     },
     "metadata": {},
     "output_type": "display_data"
    }
   ],
   "source": [
    "plt.scatter(df['TotalVolume'],df['MLS'])\n",
    "plt.show()"
   ]
  },
  {
   "cell_type": "code",
   "execution_count": 68,
   "metadata": {
    "collapsed": false
   },
   "outputs": [
    {
     "data": {
      "image/png": "[encoded data removed]",
      "text/plain": [
       "<matplotlib.figure.Figure at 0x106f4ad50>"
      ]
     },
     "metadata": {},
     "output_type": "display_data"
    }
   ],
   "source": [
    "import numpy as np\n",
    "from matplotlib import pyplot as plt\n",
    "from sklearn import linear_model, datasets\n",
    "\n",
    "X = df[['TotalVolume']].values\n",
    "y = df['MLS'].values\n",
    "\n",
    "lr = linear_model.LinearRegression()\n",
    "lr.fit(X,y)\n",
    "\n",
    "ransac = linear_model.RANSACRegressor()\n",
    "ransac.fit(X,y)\n",
    "inlier_mask = ransac.inlier_mask_\n",
    "outlier_mask = np.logical_not(inlier_mask)\n",
    "\n",
    "# Predict data of estimated models\n",
    "line_X = np.arange(X.min(), X.max())[:, np.newaxis]\n",
    "line_y = lr.predict(line_X)\n",
    "line_y_ransac = ransac.predict(line_X)\n",
    "\n",
    "lw = 2\n",
    "plt.scatter(X[inlier_mask], y[inlier_mask], color='yellowgreen', marker='.',\n",
    "            label='Inliers')\n",
    "plt.scatter(X[outlier_mask], y[outlier_mask], color='gold', marker='.',\n",
    "            label='Outliers')\n",
    "# plt.plot(line_X, line_y, color='navy', linewidth=lw, label='Linear regressor')\n",
    "plt.plot(line_X, line_y_ransac, color='cornflowerblue', linewidth=lw,\n",
    "         label='RANSAC regressor')\n",
    "plt.legend(loc='lower right')\n",
    "plt.xlabel(\"Input\")\n",
    "plt.ylabel(\"Response\")\n",
    "plt.show()"
   ]
  },
  {
   "cell_type": "code",
   "execution_count": 69,
   "metadata": {
    "collapsed": false,
    "scrolled": true
   },
   "outputs": [
    {
     "data": {
      "text/html": [
       "<div>\n",
       "<style scoped>\n",
       "    .dataframe tbody tr th:only-of-type {\n",
       "        vertical-align: middle;\n",
       "    }\n",
       "\n",
       "    .dataframe tbody tr th {\n",
       "        vertical-align: top;\n",
       "    }\n",
       "\n",
       "    .dataframe thead th {\n",
       "        text-align: right;\n",
       "    }\n",
       "</style>\n",
       "<table border=\"1\" class=\"dataframe\">\n",
       "  <thead>\n",
       "    <tr style=\"text-align: right;\">\n",
       "      <th></th>\n",
       "      <th>SignedCriticalVolume</th>\n",
       "      <th>UnsignedCriticalVolume</th>\n",
       "      <th>TotalVolume</th>\n",
       "      <th>MLS</th>\n",
       "    </tr>\n",
       "    <tr>\n",
       "      <th>caseID</th>\n",
       "      <th></th>\n",
       "      <th></th>\n",
       "      <th></th>\n",
       "      <th></th>\n",
       "    </tr>\n",
       "  </thead>\n",
       "  <tbody>\n",
       "    <tr>\n",
       "      <th>SDH1</th>\n",
       "      <td>0.000000</td>\n",
       "      <td>0.000000</td>\n",
       "      <td>40.273849</td>\n",
       "      <td>0.0000</td>\n",
       "    </tr>\n",
       "    <tr>\n",
       "      <th>SDH4</th>\n",
       "      <td>40.832258</td>\n",
       "      <td>40.832258</td>\n",
       "      <td>40.856447</td>\n",
       "      <td>13.6719</td>\n",
       "    </tr>\n",
       "    <tr>\n",
       "      <th>SDH6</th>\n",
       "      <td>71.976250</td>\n",
       "      <td>71.976250</td>\n",
       "      <td>75.493750</td>\n",
       "      <td>3.0000</td>\n",
       "    </tr>\n",
       "    <tr>\n",
       "      <th>SDH7</th>\n",
       "      <td>180.195636</td>\n",
       "      <td>180.195636</td>\n",
       "      <td>196.010535</td>\n",
       "      <td>23.0000</td>\n",
       "    </tr>\n",
       "    <tr>\n",
       "      <th>SDH8</th>\n",
       "      <td>9.815366</td>\n",
       "      <td>10.264338</td>\n",
       "      <td>16.950544</td>\n",
       "      <td>7.5720</td>\n",
       "    </tr>\n",
       "    <tr>\n",
       "      <th>SDH9</th>\n",
       "      <td>22.249364</td>\n",
       "      <td>23.875849</td>\n",
       "      <td>24.197853</td>\n",
       "      <td>7.3500</td>\n",
       "    </tr>\n",
       "    <tr>\n",
       "      <th>SDH12</th>\n",
       "      <td>74.223690</td>\n",
       "      <td>74.223690</td>\n",
       "      <td>74.223690</td>\n",
       "      <td>18.7200</td>\n",
       "    </tr>\n",
       "    <tr>\n",
       "      <th>SDH14</th>\n",
       "      <td>240.242583</td>\n",
       "      <td>240.242583</td>\n",
       "      <td>243.498807</td>\n",
       "      <td>31.0000</td>\n",
       "    </tr>\n",
       "    <tr>\n",
       "      <th>SDH24</th>\n",
       "      <td>96.481754</td>\n",
       "      <td>96.481754</td>\n",
       "      <td>97.948977</td>\n",
       "      <td>15.2900</td>\n",
       "    </tr>\n",
       "    <tr>\n",
       "      <th>SDH25</th>\n",
       "      <td>2.186182</td>\n",
       "      <td>2.186182</td>\n",
       "      <td>2.461121</td>\n",
       "      <td>4.0000</td>\n",
       "    </tr>\n",
       "    <tr>\n",
       "      <th>EDH1</th>\n",
       "      <td>99.456252</td>\n",
       "      <td>99.456252</td>\n",
       "      <td>99.456252</td>\n",
       "      <td>13.8400</td>\n",
       "    </tr>\n",
       "    <tr>\n",
       "      <th>EDH2</th>\n",
       "      <td>21.401910</td>\n",
       "      <td>23.302872</td>\n",
       "      <td>60.840682</td>\n",
       "      <td>0.9400</td>\n",
       "    </tr>\n",
       "    <tr>\n",
       "      <th>EDH5</th>\n",
       "      <td>0.208252</td>\n",
       "      <td>43.519672</td>\n",
       "      <td>44.026936</td>\n",
       "      <td>0.0000</td>\n",
       "    </tr>\n",
       "    <tr>\n",
       "      <th>EDH7</th>\n",
       "      <td>75.036272</td>\n",
       "      <td>75.036272</td>\n",
       "      <td>75.082848</td>\n",
       "      <td>12.0400</td>\n",
       "    </tr>\n",
       "    <tr>\n",
       "      <th>CONT3</th>\n",
       "      <td>8.982290</td>\n",
       "      <td>62.594501</td>\n",
       "      <td>71.290406</td>\n",
       "      <td>2.4150</td>\n",
       "    </tr>\n",
       "    <tr>\n",
       "      <th>CONT4</th>\n",
       "      <td>14.074992</td>\n",
       "      <td>14.560546</td>\n",
       "      <td>186.423542</td>\n",
       "      <td>1.7630</td>\n",
       "    </tr>\n",
       "    <tr>\n",
       "      <th>CONT6</th>\n",
       "      <td>56.710052</td>\n",
       "      <td>56.710052</td>\n",
       "      <td>64.220428</td>\n",
       "      <td>0.0000</td>\n",
       "    </tr>\n",
       "    <tr>\n",
       "      <th>tutorial3</th>\n",
       "      <td>71.284000</td>\n",
       "      <td>71.284000</td>\n",
       "      <td>71.284000</td>\n",
       "      <td>11.3300</td>\n",
       "    </tr>\n",
       "    <tr>\n",
       "      <th>CONT10</th>\n",
       "      <td>2.067679</td>\n",
       "      <td>2.067679</td>\n",
       "      <td>122.569441</td>\n",
       "      <td>2.5030</td>\n",
       "    </tr>\n",
       "    <tr>\n",
       "      <th>CONT15</th>\n",
       "      <td>24.355272</td>\n",
       "      <td>28.778787</td>\n",
       "      <td>57.127277</td>\n",
       "      <td>1.8330</td>\n",
       "    </tr>\n",
       "    <tr>\n",
       "      <th>CONT16</th>\n",
       "      <td>14.328275</td>\n",
       "      <td>65.170798</td>\n",
       "      <td>68.463594</td>\n",
       "      <td>1.4000</td>\n",
       "    </tr>\n",
       "  </tbody>\n",
       "</table>\n",
       "</div>"
      ],
      "text/plain": [
       "           SignedCriticalVolume  UnsignedCriticalVolume  TotalVolume      MLS\n",
       "caseID                                                                       \n",
       "SDH1                   0.000000                0.000000    40.273849   0.0000\n",
       "SDH4                  40.832258               40.832258    40.856447  13.6719\n",
       "SDH6                  71.976250               71.976250    75.493750   3.0000\n",
       "SDH7                 180.195636              180.195636   196.010535  23.0000\n",
       "SDH8                   9.815366               10.264338    16.950544   7.5720\n",
       "SDH9                  22.249364               23.875849    24.197853   7.3500\n",
       "SDH12                 74.223690               74.223690    74.223690  18.7200\n",
       "SDH14                240.242583              240.242583   243.498807  31.0000\n",
       "SDH24                 96.481754               96.481754    97.948977  15.2900\n",
       "SDH25                  2.186182                2.186182     2.461121   4.0000\n",
       "EDH1                  99.456252               99.456252    99.456252  13.8400\n",
       "EDH2                  21.401910               23.302872    60.840682   0.9400\n",
       "EDH5                   0.208252               43.519672    44.026936   0.0000\n",
       "EDH7                  75.036272               75.036272    75.082848  12.0400\n",
       "CONT3                  8.982290               62.594501    71.290406   2.4150\n",
       "CONT4                 14.074992               14.560546   186.423542   1.7630\n",
       "CONT6                 56.710052               56.710052    64.220428   0.0000\n",
       "tutorial3             71.284000               71.284000    71.284000  11.3300\n",
       "CONT10                 2.067679                2.067679   122.569441   2.5030\n",
       "CONT15                24.355272               28.778787    57.127277   1.8330\n",
       "CONT16                14.328275               65.170798    68.463594   1.4000"
      ]
     },
     "execution_count": 69,
     "metadata": {},
     "output_type": "execute_result"
    }
   ],
   "source": [
    "df[outlier_mask]"
   ]
  },
  {
   "cell_type": "code",
   "execution_count": 62,
   "metadata": {
    "collapsed": true
   },
   "outputs": [
    {
     "name": "stderr",
     "output_type": "stream",
     "text": [
      "/anaconda/envs/DC/lib/python2.7/site-packages/ipykernel_launcher.py:1: FutureWarning: pandas.scatter_matrix is deprecated. Use pandas.plotting.scatter_matrix instead\n",
      "  \"\"\"Entry point for launching an IPython kernel.\n"
     ]
    },
    {
     "data": {
      "image/png": "[encoded data removed]",
      "text/plain": [
       "<matplotlib.figure.Figure at 0x106acc810>"
      ]
     },
     "metadata": {},
     "output_type": "display_data"
    }
   ],
   "source": [
    "pd.scatter_matrix(df, figsize=(6, 6))\n",
    "plt.show()"
   ]
  },
  {
   "cell_type": "code",
   "execution_count": 22,
   "metadata": {
    "collapsed": false
   },
   "outputs": [
    {
     "data": {
      "image/png": "[encoded data removed]",
      "text/plain": [
       "<matplotlib.figure.Figure at 0x111f2d910>"
      ]
     },
     "metadata": {},
     "output_type": "display_data"
    }
   ],
   "source": [
    "plt.figure(figsize=(12,5))\n",
    "plt.matshow((X.corr()),fignum=1)\n",
    "plt.xticks(range(len(X.columns)), X.columns)\n",
    "plt.yticks(range(len(X.columns)), X.columns)\n",
    "plt.colorbar()\n",
    "plt.show()"
   ]
  },
  {
   "cell_type": "code",
   "execution_count": null,
   "metadata": {
    "collapsed": true
   },
   "outputs": [],
   "source": []
  },
  {
   "cell_type": "code",
   "execution_count": 219,
   "metadata": {
    "collapsed": false
   },
   "outputs": [
    {
     "name": "stdout",
     "output_type": "stream",
     "text": [
      "0.5 0.89035721768\n"
     ]
    }
   ],
   "source": [
    "theta = 60\n",
    "y0 = 1-np.cos(theta/180.0*np.pi)\n",
    "y1 = (np.tanh((theta*4-180)/180.0*np.pi)+1)/2\n",
    "\n",
    "print y0,y1"
   ]
  },
  {
   "cell_type": "code",
   "execution_count": 31,
   "metadata": {
    "collapsed": false
   },
   "outputs": [],
   "source": [
    "x = np.arange(0,90,1)\n",
    "y0 = (1-np.cos(2*x/180.0*np.pi))/2\n",
    "y1 = (np.tanh((x*2.8-126)/180.0*np.pi)+1)/2\n",
    "# y2 = np.sqrt(x/90.)\n",
    "# y1 = 0.27*np.exp(-x/25.)+0.13"
   ]
  },
  {
   "cell_type": "code",
   "execution_count": 33,
   "metadata": {
    "collapsed": false
   },
   "outputs": [
    {
     "data": {
      "image/png": "[encoded data removed]",
      "text/plain": [
       "<matplotlib.figure.Figure at 0x1124700d0>"
      ]
     },
     "metadata": {},
     "output_type": "display_data"
    }
   ],
   "source": [
    "plt.plot(x,y1)\n",
    "# plt.plot(x,y2)\n",
    "plt.show()"
   ]
  },
  {
   "cell_type": "code",
   "execution_count": 244,
   "metadata": {
    "collapsed": false
   },
   "outputs": [
    {
     "data": {
      "text/plain": [
       "-1.4210854715202004e-14"
      ]
     },
     "execution_count": 244,
     "metadata": {},
     "output_type": "execute_result"
    }
   ],
   "source": [
    "90.0*1.4-126"
   ]
  },
  {
   "cell_type": "code",
   "execution_count": 294,
   "metadata": {
    "collapsed": false
   },
   "outputs": [
    {
     "data": {
      "text/plain": [
       "1.164431713254428"
      ]
     },
     "execution_count": 294,
     "metadata": {},
     "output_type": "execute_result"
    }
   ],
   "source": [
    "8.910433979686058/7.6521739130434785"
   ]
  },
  {
   "cell_type": "code",
   "execution_count": 299,
   "metadata": {
    "collapsed": false
   },
   "outputs": [
    {
     "data": {
      "text/plain": [
       "11.110569948186528"
      ]
     },
     "execution_count": 299,
     "metadata": {},
     "output_type": "execute_result"
    }
   ],
   "source": [
    "21.66/193*99"
   ]
  },
  {
   "cell_type": "code",
   "execution_count": null,
   "metadata": {
    "collapsed": true
   },
   "outputs": [],
   "source": []
  }
 ],
 "metadata": {
  "kernelspec": {
   "display_name": "Python 2",
   "language": "python",
   "name": "python2"
  },
  "language_info": {
   "codemirror_mode": {
    "name": "ipython",
    "version": 2
   },
   "file_extension": ".py",
   "mimetype": "text/x-python",
   "name": "python",
   "nbconvert_exporter": "python",
   "pygments_lexer": "ipython2",
   "version": "2.7.13"
  }
 },
 "nbformat": 4,
 "nbformat_minor": 2
}
